{
 "cells": [
  {
   "cell_type": "code",
   "execution_count": 10,
   "metadata": {},
   "outputs": [],
   "source": [
    "# ライブラリ\n",
    "import requests\n",
    "import datetime\n",
    "import csv\n",
    "from bs4 import BeautifulSoup\n",
    "from time import sleep\n",
    "\n",
    "# ダウンロード\n",
    "url = 'https://books.toscrape.com/'\n",
    "response = requests.get(url)\n",
    "\n",
    "# レスポンス解析\n",
    "parser = 'html.parser'\n",
    "soup = BeautifulSoup(response.text, parser)\n",
    "\n",
    "# 各書籍データをリスト格納\n",
    "items = soup.select('ol.row li')\n",
    "\n",
    "# 初期化\n",
    "item_list = []\n",
    "\n",
    "# 各書籍データを１件づつ処理\n",
    "for item in items:\n",
    "    item_name = item.select('h3 a')[0].text\n",
    "    item_url = item.select('h3 a')[0]['href']\n",
    "    item_price = item.select('p.price_color')[0].text\n",
    "    item_stock = item.select('p.instock.availability')[0].text.strip()\n",
    "    detail_url = 'https://books.toscrape.com/' + item_url\n",
    "    response = requests.get(detail_url)\n",
    "    soup = BeautifulSoup(response.text, parser)\n",
    "    item_code = soup.select('table td')[0].text\n",
    "    item_list.append([item_name, detail_url, item_price, item_stock, item_code])\n",
    "    sleep(1)\n",
    "\n",
    "# CSVファイル\n",
    "csv_head = ['商品名', 'URL', '価格', '在庫', '商品コード']\n",
    "csv_date = datetime.datetime.today().strftime('%Y%m%d%H')\n",
    "csv_file = 'item_data_' + csv_date + '.csv'\n",
    "\n",
    "# データ保存\n",
    "with open(csv_file, 'w', errors='ignore') as file:\n",
    "    writer = csv.writer(file, lineterminator='\\n')\n",
    "    writer.writerow(csv_head)\n",
    "    writer.writerows(item_list)"
   ]
  },
  {
   "cell_type": "code",
   "execution_count": null,
   "metadata": {},
   "outputs": [],
   "source": []
  }
 ],
 "metadata": {
  "kernelspec": {
   "display_name": "Python 3",
   "language": "python",
   "name": "python3"
  },
  "language_info": {
   "codemirror_mode": {
    "name": "ipython",
    "version": 3
   },
   "file_extension": ".py",
   "mimetype": "text/x-python",
   "name": "python",
   "nbconvert_exporter": "python",
   "pygments_lexer": "ipython3",
   "version": "3.8.3"
  }
 },
 "nbformat": 4,
 "nbformat_minor": 4
}
